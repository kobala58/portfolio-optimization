{
 "cells": [
  {
   "cell_type": "code",
   "execution_count": 8,
   "id": "5833993a-d9e7-48c7-bdbe-c7e0dfeed774",
   "metadata": {
    "tags": []
   },
   "outputs": [],
   "source": [
    "import numpy as np\n",
    "import pandas as pd\n",
    "import plotly.express as px\n",
    "import xAPIConnector\n",
    "from dotenv import load_dotenv\n",
    "import os\n",
    "import time\n",
    "import json"
   ]
  },
  {
   "cell_type": "code",
   "execution_count": 21,
   "id": "7737d681-96d0-4735-8ef1-9c261ba5f67a",
   "metadata": {
    "tags": []
   },
   "outputs": [
    {
     "name": "stdout",
     "output_type": "stream",
     "text": [
      "Before: (454, 2)\n",
      "After: (49, 2)\n"
     ]
    }
   ],
   "source": [
    "stocks = pd.read_csv(\"calculated.csv\", index_col=0)\n",
    "print(f\"Before: {stocks.shape}\")\n",
    "stocks = stocks[stocks[\"return\"] > 0.04]\n",
    "print(f\"After: {stocks.shape}\")\n",
    "\n",
    "stocks.to_csv(\"49best.csv\")"
   ]
  },
  {
   "cell_type": "code",
   "execution_count": 22,
   "id": "353eb3f3-83a7-4a5f-bea6-b9a3200648a4",
   "metadata": {
    "tags": []
   },
   "outputs": [
    {
     "data": {
      "application/vnd.plotly.v1+json": {
       "config": {
        "plotlyServerURL": "https://plot.ly"
       },
       "data": [
        {
         "hovertemplate": "risk=%{x}<br>return=%{marker.color}<br>text=%{text}<extra></extra>",
         "legendgroup": "",
         "marker": {
          "color": [
           0.05,
           0.07,
           0.05,
           0.12,
           0.08,
           0.1,
           0.07,
           0.1,
           0.06,
           0.07,
           0.08,
           0.06,
           0.1,
           0.08,
           0.09,
           0.05,
           0.05,
           0.64,
           0.06,
           0.07,
           0.07,
           0.05,
           0.1,
           0.05,
           0.05,
           0.11,
           0.72,
           0.09,
           0.12,
           0.07,
           0.12,
           0.06,
           0.06,
           0.09,
           0.06,
           0.05,
           0.06,
           0.1,
           0.11,
           0.05,
           0.05,
           0.05,
           0.06,
           0.05,
           0.09,
           0.06,
           0.05,
           0.07,
           0.16
          ],
          "coloraxis": "coloraxis",
          "symbol": "circle"
         },
         "mode": "markers+text",
         "name": "",
         "orientation": "v",
         "showlegend": false,
         "text": [
          "BFT.PL_9",
          "ATA.PL",
          "ZUE.PL",
          "BEE.PL",
          "LBW.PL",
          "SFS.PL",
          "VOT.PL",
          "PDZ.PL",
          "CLD.PL",
          "KOM.PL",
          "BMC.PL",
          "MBF.PL",
          "GRX.PL",
          "WTN.PL",
          "RSP.PL",
          "MON.PL",
          "BML.PL",
          "ALG.PL",
          "ELT.PL",
          "LTS.PL_9",
          "LTS.PL_4",
          "ZEP.PL",
          "ATR.PL",
          "ODL.PL",
          "ETL.PL",
          "NVV.PL",
          "4MS.PL",
          "CIG.PL",
          "NCL.PL",
          "ATC.PL",
          "SDS.PL",
          "COG.PL",
          "XTP.PL",
          "SUN.PL",
          "XTB.PL_9",
          "ASB.PL",
          "WAT.PL",
          "OTSL.PL",
          "SGN.PL",
          "MRB.PL",
          "SCP.PL",
          "GOP.PL",
          "BRS.PL_9",
          "SPR.PL",
          "ZRE.PL",
          "BRS.PL_4",
          "AGL.PL",
          "UNT.PL",
          "SNX.PL"
         ],
         "textposition": "top center",
         "type": "scatter",
         "x": [
          0.12,
          0.13,
          0.1,
          0.43,
          0.22,
          0.32,
          0.16,
          0.25,
          0.14,
          0.23,
          0.35,
          0.32,
          0.24,
          0.16,
          0.13,
          0.11,
          0.29,
          2.94,
          0.16,
          0.07,
          0.07,
          0.21,
          0.27,
          0.08,
          0.09,
          0.91,
          2.75,
          0.16,
          0.3,
          0.14,
          0.25,
          0.2,
          0.17,
          0.16,
          0.12,
          0.17,
          0.47,
          0.17,
          0.17,
          0.14,
          0.22,
          0.17,
          0.18,
          0.13,
          0.22,
          0.18,
          0.06,
          0.15,
          0.37
         ],
         "xaxis": "x",
         "y": [
          0.05,
          0.07,
          0.05,
          0.12,
          0.08,
          0.1,
          0.07,
          0.1,
          0.06,
          0.07,
          0.08,
          0.06,
          0.1,
          0.08,
          0.09,
          0.05,
          0.05,
          0.64,
          0.06,
          0.07,
          0.07,
          0.05,
          0.1,
          0.05,
          0.05,
          0.11,
          0.72,
          0.09,
          0.12,
          0.07,
          0.12,
          0.06,
          0.06,
          0.09,
          0.06,
          0.05,
          0.06,
          0.1,
          0.11,
          0.05,
          0.05,
          0.05,
          0.06,
          0.05,
          0.09,
          0.06,
          0.05,
          0.07,
          0.16
         ],
         "yaxis": "y"
        }
       ],
       "layout": {
        "autosize": true,
        "coloraxis": {
         "colorbar": {
          "title": {
           "text": "return"
          }
         },
         "colorscale": [
          [
           0,
           "#0d0887"
          ],
          [
           0.1111111111111111,
           "#46039f"
          ],
          [
           0.2222222222222222,
           "#7201a8"
          ],
          [
           0.3333333333333333,
           "#9c179e"
          ],
          [
           0.4444444444444444,
           "#bd3786"
          ],
          [
           0.5555555555555556,
           "#d8576b"
          ],
          [
           0.6666666666666666,
           "#ed7953"
          ],
          [
           0.7777777777777778,
           "#fb9f3a"
          ],
          [
           0.8888888888888888,
           "#fdca26"
          ],
          [
           1,
           "#f0f921"
          ]
         ]
        },
        "legend": {
         "tracegroupgap": 0
        },
        "margin": {
         "t": 60
        },
        "template": {
         "data": {
          "bar": [
           {
            "error_x": {
             "color": "#2a3f5f"
            },
            "error_y": {
             "color": "#2a3f5f"
            },
            "marker": {
             "line": {
              "color": "#E5ECF6",
              "width": 0.5
             },
             "pattern": {
              "fillmode": "overlay",
              "size": 10,
              "solidity": 0.2
             }
            },
            "type": "bar"
           }
          ],
          "barpolar": [
           {
            "marker": {
             "line": {
              "color": "#E5ECF6",
              "width": 0.5
             },
             "pattern": {
              "fillmode": "overlay",
              "size": 10,
              "solidity": 0.2
             }
            },
            "type": "barpolar"
           }
          ],
          "carpet": [
           {
            "aaxis": {
             "endlinecolor": "#2a3f5f",
             "gridcolor": "white",
             "linecolor": "white",
             "minorgridcolor": "white",
             "startlinecolor": "#2a3f5f"
            },
            "baxis": {
             "endlinecolor": "#2a3f5f",
             "gridcolor": "white",
             "linecolor": "white",
             "minorgridcolor": "white",
             "startlinecolor": "#2a3f5f"
            },
            "type": "carpet"
           }
          ],
          "choropleth": [
           {
            "colorbar": {
             "outlinewidth": 0,
             "ticks": ""
            },
            "type": "choropleth"
           }
          ],
          "contour": [
           {
            "colorbar": {
             "outlinewidth": 0,
             "ticks": ""
            },
            "colorscale": [
             [
              0,
              "#0d0887"
             ],
             [
              0.1111111111111111,
              "#46039f"
             ],
             [
              0.2222222222222222,
              "#7201a8"
             ],
             [
              0.3333333333333333,
              "#9c179e"
             ],
             [
              0.4444444444444444,
              "#bd3786"
             ],
             [
              0.5555555555555556,
              "#d8576b"
             ],
             [
              0.6666666666666666,
              "#ed7953"
             ],
             [
              0.7777777777777778,
              "#fb9f3a"
             ],
             [
              0.8888888888888888,
              "#fdca26"
             ],
             [
              1,
              "#f0f921"
             ]
            ],
            "type": "contour"
           }
          ],
          "contourcarpet": [
           {
            "colorbar": {
             "outlinewidth": 0,
             "ticks": ""
            },
            "type": "contourcarpet"
           }
          ],
          "heatmap": [
           {
            "colorbar": {
             "outlinewidth": 0,
             "ticks": ""
            },
            "colorscale": [
             [
              0,
              "#0d0887"
             ],
             [
              0.1111111111111111,
              "#46039f"
             ],
             [
              0.2222222222222222,
              "#7201a8"
             ],
             [
              0.3333333333333333,
              "#9c179e"
             ],
             [
              0.4444444444444444,
              "#bd3786"
             ],
             [
              0.5555555555555556,
              "#d8576b"
             ],
             [
              0.6666666666666666,
              "#ed7953"
             ],
             [
              0.7777777777777778,
              "#fb9f3a"
             ],
             [
              0.8888888888888888,
              "#fdca26"
             ],
             [
              1,
              "#f0f921"
             ]
            ],
            "type": "heatmap"
           }
          ],
          "heatmapgl": [
           {
            "colorbar": {
             "outlinewidth": 0,
             "ticks": ""
            },
            "colorscale": [
             [
              0,
              "#0d0887"
             ],
             [
              0.1111111111111111,
              "#46039f"
             ],
             [
              0.2222222222222222,
              "#7201a8"
             ],
             [
              0.3333333333333333,
              "#9c179e"
             ],
             [
              0.4444444444444444,
              "#bd3786"
             ],
             [
              0.5555555555555556,
              "#d8576b"
             ],
             [
              0.6666666666666666,
              "#ed7953"
             ],
             [
              0.7777777777777778,
              "#fb9f3a"
             ],
             [
              0.8888888888888888,
              "#fdca26"
             ],
             [
              1,
              "#f0f921"
             ]
            ],
            "type": "heatmapgl"
           }
          ],
          "histogram": [
           {
            "marker": {
             "pattern": {
              "fillmode": "overlay",
              "size": 10,
              "solidity": 0.2
             }
            },
            "type": "histogram"
           }
          ],
          "histogram2d": [
           {
            "colorbar": {
             "outlinewidth": 0,
             "ticks": ""
            },
            "colorscale": [
             [
              0,
              "#0d0887"
             ],
             [
              0.1111111111111111,
              "#46039f"
             ],
             [
              0.2222222222222222,
              "#7201a8"
             ],
             [
              0.3333333333333333,
              "#9c179e"
             ],
             [
              0.4444444444444444,
              "#bd3786"
             ],
             [
              0.5555555555555556,
              "#d8576b"
             ],
             [
              0.6666666666666666,
              "#ed7953"
             ],
             [
              0.7777777777777778,
              "#fb9f3a"
             ],
             [
              0.8888888888888888,
              "#fdca26"
             ],
             [
              1,
              "#f0f921"
             ]
            ],
            "type": "histogram2d"
           }
          ],
          "histogram2dcontour": [
           {
            "colorbar": {
             "outlinewidth": 0,
             "ticks": ""
            },
            "colorscale": [
             [
              0,
              "#0d0887"
             ],
             [
              0.1111111111111111,
              "#46039f"
             ],
             [
              0.2222222222222222,
              "#7201a8"
             ],
             [
              0.3333333333333333,
              "#9c179e"
             ],
             [
              0.4444444444444444,
              "#bd3786"
             ],
             [
              0.5555555555555556,
              "#d8576b"
             ],
             [
              0.6666666666666666,
              "#ed7953"
             ],
             [
              0.7777777777777778,
              "#fb9f3a"
             ],
             [
              0.8888888888888888,
              "#fdca26"
             ],
             [
              1,
              "#f0f921"
             ]
            ],
            "type": "histogram2dcontour"
           }
          ],
          "mesh3d": [
           {
            "colorbar": {
             "outlinewidth": 0,
             "ticks": ""
            },
            "type": "mesh3d"
           }
          ],
          "parcoords": [
           {
            "line": {
             "colorbar": {
              "outlinewidth": 0,
              "ticks": ""
             }
            },
            "type": "parcoords"
           }
          ],
          "pie": [
           {
            "automargin": true,
            "type": "pie"
           }
          ],
          "scatter": [
           {
            "fillpattern": {
             "fillmode": "overlay",
             "size": 10,
             "solidity": 0.2
            },
            "type": "scatter"
           }
          ],
          "scatter3d": [
           {
            "line": {
             "colorbar": {
              "outlinewidth": 0,
              "ticks": ""
             }
            },
            "marker": {
             "colorbar": {
              "outlinewidth": 0,
              "ticks": ""
             }
            },
            "type": "scatter3d"
           }
          ],
          "scattercarpet": [
           {
            "marker": {
             "colorbar": {
              "outlinewidth": 0,
              "ticks": ""
             }
            },
            "type": "scattercarpet"
           }
          ],
          "scattergeo": [
           {
            "marker": {
             "colorbar": {
              "outlinewidth": 0,
              "ticks": ""
             }
            },
            "type": "scattergeo"
           }
          ],
          "scattergl": [
           {
            "marker": {
             "colorbar": {
              "outlinewidth": 0,
              "ticks": ""
             }
            },
            "type": "scattergl"
           }
          ],
          "scattermapbox": [
           {
            "marker": {
             "colorbar": {
              "outlinewidth": 0,
              "ticks": ""
             }
            },
            "type": "scattermapbox"
           }
          ],
          "scatterpolar": [
           {
            "marker": {
             "colorbar": {
              "outlinewidth": 0,
              "ticks": ""
             }
            },
            "type": "scatterpolar"
           }
          ],
          "scatterpolargl": [
           {
            "marker": {
             "colorbar": {
              "outlinewidth": 0,
              "ticks": ""
             }
            },
            "type": "scatterpolargl"
           }
          ],
          "scatterternary": [
           {
            "marker": {
             "colorbar": {
              "outlinewidth": 0,
              "ticks": ""
             }
            },
            "type": "scatterternary"
           }
          ],
          "surface": [
           {
            "colorbar": {
             "outlinewidth": 0,
             "ticks": ""
            },
            "colorscale": [
             [
              0,
              "#0d0887"
             ],
             [
              0.1111111111111111,
              "#46039f"
             ],
             [
              0.2222222222222222,
              "#7201a8"
             ],
             [
              0.3333333333333333,
              "#9c179e"
             ],
             [
              0.4444444444444444,
              "#bd3786"
             ],
             [
              0.5555555555555556,
              "#d8576b"
             ],
             [
              0.6666666666666666,
              "#ed7953"
             ],
             [
              0.7777777777777778,
              "#fb9f3a"
             ],
             [
              0.8888888888888888,
              "#fdca26"
             ],
             [
              1,
              "#f0f921"
             ]
            ],
            "type": "surface"
           }
          ],
          "table": [
           {
            "cells": {
             "fill": {
              "color": "#EBF0F8"
             },
             "line": {
              "color": "white"
             }
            },
            "header": {
             "fill": {
              "color": "#C8D4E3"
             },
             "line": {
              "color": "white"
             }
            },
            "type": "table"
           }
          ]
         },
         "layout": {
          "annotationdefaults": {
           "arrowcolor": "#2a3f5f",
           "arrowhead": 0,
           "arrowwidth": 1
          },
          "autotypenumbers": "strict",
          "coloraxis": {
           "colorbar": {
            "outlinewidth": 0,
            "ticks": ""
           }
          },
          "colorscale": {
           "diverging": [
            [
             0,
             "#8e0152"
            ],
            [
             0.1,
             "#c51b7d"
            ],
            [
             0.2,
             "#de77ae"
            ],
            [
             0.3,
             "#f1b6da"
            ],
            [
             0.4,
             "#fde0ef"
            ],
            [
             0.5,
             "#f7f7f7"
            ],
            [
             0.6,
             "#e6f5d0"
            ],
            [
             0.7,
             "#b8e186"
            ],
            [
             0.8,
             "#7fbc41"
            ],
            [
             0.9,
             "#4d9221"
            ],
            [
             1,
             "#276419"
            ]
           ],
           "sequential": [
            [
             0,
             "#0d0887"
            ],
            [
             0.1111111111111111,
             "#46039f"
            ],
            [
             0.2222222222222222,
             "#7201a8"
            ],
            [
             0.3333333333333333,
             "#9c179e"
            ],
            [
             0.4444444444444444,
             "#bd3786"
            ],
            [
             0.5555555555555556,
             "#d8576b"
            ],
            [
             0.6666666666666666,
             "#ed7953"
            ],
            [
             0.7777777777777778,
             "#fb9f3a"
            ],
            [
             0.8888888888888888,
             "#fdca26"
            ],
            [
             1,
             "#f0f921"
            ]
           ],
           "sequentialminus": [
            [
             0,
             "#0d0887"
            ],
            [
             0.1111111111111111,
             "#46039f"
            ],
            [
             0.2222222222222222,
             "#7201a8"
            ],
            [
             0.3333333333333333,
             "#9c179e"
            ],
            [
             0.4444444444444444,
             "#bd3786"
            ],
            [
             0.5555555555555556,
             "#d8576b"
            ],
            [
             0.6666666666666666,
             "#ed7953"
            ],
            [
             0.7777777777777778,
             "#fb9f3a"
            ],
            [
             0.8888888888888888,
             "#fdca26"
            ],
            [
             1,
             "#f0f921"
            ]
           ]
          },
          "colorway": [
           "#636efa",
           "#EF553B",
           "#00cc96",
           "#ab63fa",
           "#FFA15A",
           "#19d3f3",
           "#FF6692",
           "#B6E880",
           "#FF97FF",
           "#FECB52"
          ],
          "font": {
           "color": "#2a3f5f"
          },
          "geo": {
           "bgcolor": "white",
           "lakecolor": "white",
           "landcolor": "#E5ECF6",
           "showlakes": true,
           "showland": true,
           "subunitcolor": "white"
          },
          "hoverlabel": {
           "align": "left"
          },
          "hovermode": "closest",
          "mapbox": {
           "style": "light"
          },
          "paper_bgcolor": "white",
          "plot_bgcolor": "#E5ECF6",
          "polar": {
           "angularaxis": {
            "gridcolor": "white",
            "linecolor": "white",
            "ticks": ""
           },
           "bgcolor": "#E5ECF6",
           "radialaxis": {
            "gridcolor": "white",
            "linecolor": "white",
            "ticks": ""
           }
          },
          "scene": {
           "xaxis": {
            "backgroundcolor": "#E5ECF6",
            "gridcolor": "white",
            "gridwidth": 2,
            "linecolor": "white",
            "showbackground": true,
            "ticks": "",
            "zerolinecolor": "white"
           },
           "yaxis": {
            "backgroundcolor": "#E5ECF6",
            "gridcolor": "white",
            "gridwidth": 2,
            "linecolor": "white",
            "showbackground": true,
            "ticks": "",
            "zerolinecolor": "white"
           },
           "zaxis": {
            "backgroundcolor": "#E5ECF6",
            "gridcolor": "white",
            "gridwidth": 2,
            "linecolor": "white",
            "showbackground": true,
            "ticks": "",
            "zerolinecolor": "white"
           }
          },
          "shapedefaults": {
           "line": {
            "color": "#2a3f5f"
           }
          },
          "ternary": {
           "aaxis": {
            "gridcolor": "white",
            "linecolor": "white",
            "ticks": ""
           },
           "baxis": {
            "gridcolor": "white",
            "linecolor": "white",
            "ticks": ""
           },
           "bgcolor": "#E5ECF6",
           "caxis": {
            "gridcolor": "white",
            "linecolor": "white",
            "ticks": ""
           }
          },
          "title": {
           "x": 0.05
          },
          "xaxis": {
           "automargin": true,
           "gridcolor": "white",
           "linecolor": "white",
           "ticks": "",
           "title": {
            "standoff": 15
           },
           "zerolinecolor": "white",
           "zerolinewidth": 2
          },
          "yaxis": {
           "automargin": true,
           "gridcolor": "white",
           "linecolor": "white",
           "ticks": "",
           "title": {
            "standoff": 15
           },
           "zerolinecolor": "white",
           "zerolinewidth": 2
          }
         }
        },
        "title": {
         "text": "Sample",
         "x": 0.5
        },
        "xaxis": {
         "anchor": "y",
         "autorange": true,
         "domain": [
          0,
          1
         ],
         "range": [
          -1.3317287534575566,
          0.5782273342533575
         ],
         "title": {
          "text": "risk"
         },
         "type": "log"
        },
        "yaxis": {
         "anchor": "x",
         "autorange": true,
         "domain": [
          0,
          1
         ],
         "range": [
          -0.0018766404199474992,
          0.7718766404199475
         ],
         "title": {
          "text": "return"
         },
         "type": "linear"
        }
       }
      },
      "image/png": "[encoded data removed]",
      "text/html": [
       "<div>                            <div id=\"2f886deb-e7d1-4420-9787-5be64a51b691\" class=\"plotly-graph-div\" style=\"height:525px; width:100%;\"></div>            <script type=\"text/javascript\">                require([\"plotly\"], function(Plotly) {                    window.PLOTLYENV=window.PLOTLYENV || {};                                    if (document.getElementById(\"2f886deb-e7d1-4420-9787-5be64a51b691\")) {                    Plotly.newPlot(                        \"2f886deb-e7d1-4420-9787-5be64a51b691\",                        [{\"hovertemplate\":\"risk=%{x}<br>return=%{marker.color}<br>text=%{text}<extra></extra>\",\"legendgroup\":\"\",\"marker\":{\"color\":[0.05,0.07,0.05,0.12,0.08,0.1,0.07,0.1,0.06,0.07,0.08,0.06,0.1,0.08,0.09,0.05,0.05,0.64,0.06,0.07,0.07,0.05,0.1,0.05,0.05,0.11,0.72,0.09,0.12,0.07,0.12,0.06,0.06,0.09,0.06,0.05,0.06,0.1,0.11,0.05,0.05,0.05,0.06,0.05,0.09,0.06,0.05,0.07,0.16],\"coloraxis\":\"coloraxis\",\"symbol\":\"circle\"},\"mode\":\"markers+text\",\"name\":\"\",\"orientation\":\"v\",\"showlegend\":false,\"text\":[\"BFT.PL_9\",\"ATA.PL\",\"ZUE.PL\",\"BEE.PL\",\"LBW.PL\",\"SFS.PL\",\"VOT.PL\",\"PDZ.PL\",\"CLD.PL\",\"KOM.PL\",\"BMC.PL\",\"MBF.PL\",\"GRX.PL\",\"WTN.PL\",\"RSP.PL\",\"MON.PL\",\"BML.PL\",\"ALG.PL\",\"ELT.PL\",\"LTS.PL_9\",\"LTS.PL_4\",\"ZEP.PL\",\"ATR.PL\",\"ODL.PL\",\"ETL.PL\",\"NVV.PL\",\"4MS.PL\",\"CIG.PL\",\"NCL.PL\",\"ATC.PL\",\"SDS.PL\",\"COG.PL\",\"XTP.PL\",\"SUN.PL\",\"XTB.PL_9\",\"ASB.PL\",\"WAT.PL\",\"OTSL.PL\",\"SGN.PL\",\"MRB.PL\",\"SCP.PL\",\"GOP.PL\",\"BRS.PL_9\",\"SPR.PL\",\"ZRE.PL\",\"BRS.PL_4\",\"AGL.PL\",\"UNT.PL\",\"SNX.PL\"],\"x\":[0.12,0.13,0.1,0.43,0.22,0.32,0.16,0.25,0.14,0.23,0.35,0.32,0.24,0.16,0.13,0.11,0.29,2.94,0.16,0.07,0.07,0.21,0.27,0.08,0.09,0.91,2.75,0.16,0.3,0.14,0.25,0.2,0.17,0.16,0.12,0.17,0.47,0.17,0.17,0.14,0.22,0.17,0.18,0.13,0.22,0.18,0.06,0.15,0.37],\"xaxis\":\"x\",\"y\":[0.05,0.07,0.05,0.12,0.08,0.1,0.07,0.1,0.06,0.07,0.08,0.06,0.1,0.08,0.09,0.05,0.05,0.64,0.06,0.07,0.07,0.05,0.1,0.05,0.05,0.11,0.72,0.09,0.12,0.07,0.12,0.06,0.06,0.09,0.06,0.05,0.06,0.1,0.11,0.05,0.05,0.05,0.06,0.05,0.09,0.06,0.05,0.07,0.16],\"yaxis\":\"y\",\"type\":\"scatter\",\"textposition\":\"top center\"}],                        {\"template\":{\"data\":{\"histogram2dcontour\":[{\"type\":\"histogram2dcontour\",\"colorbar\":{\"outlinewidth\":0,\"ticks\":\"\"},\"colorscale\":[[0.0,\"#0d0887\"],[0.1111111111111111,\"#46039f\"],[0.2222222222222222,\"#7201a8\"],[0.3333333333333333,\"#9c179e\"],[0.4444444444444444,\"#bd3786\"],[0.5555555555555556,\"#d8576b\"],[0.6666666666666666,\"#ed7953\"],[0.7777777777777778,\"#fb9f3a\"],[0.8888888888888888,\"#fdca26\"],[1.0,\"#f0f921\"]]}],\"choropleth\":[{\"type\":\"choropleth\",\"colorbar\":{\"outlinewidth\":0,\"ticks\":\"\"}}],\"histogram2d\":[{\"type\":\"histogram2d\",\"colorbar\":{\"outlinewidth\":0,\"ticks\":\"\"},\"colorscale\":[[0.0,\"#0d0887\"],[0.1111111111111111,\"#46039f\"],[0.2222222222222222,\"#7201a8\"],[0.3333333333333333,\"#9c179e\"],[0.4444444444444444,\"#bd3786\"],[0.5555555555555556,\"#d8576b\"],[0.6666666666666666,\"#ed7953\"],[0.7777777777777778,\"#fb9f3a\"],[0.8888888888888888,\"#fdca26\"],[1.0,\"#f0f921\"]]}],\"heatmap\":[{\"type\":\"heatmap\",\"colorbar\":{\"outlinewidth\":0,\"ticks\":\"\"},\"colorscale\":[[0.0,\"#0d0887\"],[0.1111111111111111,\"#46039f\"],[0.2222222222222222,\"#7201a8\"],[0.3333333333333333,\"#9c179e\"],[0.4444444444444444,\"#bd3786\"],[0.5555555555555556,\"#d8576b\"],[0.6666666666666666,\"#ed7953\"],[0.7777777777777778,\"#fb9f3a\"],[0.8888888888888888,\"#fdca26\"],[1.0,\"#f0f921\"]]}],\"heatmapgl\":[{\"type\":\"heatmapgl\",\"colorbar\":{\"outlinewidth\":0,\"ticks\":\"\"},\"colorscale\":[[0.0,\"#0d0887\"],[0.1111111111111111,\"#46039f\"],[0.2222222222222222,\"#7201a8\"],[0.3333333333333333,\"#9c179e\"],[0.4444444444444444,\"#bd3786\"],[0.5555555555555556,\"#d8576b\"],[0.6666666666666666,\"#ed7953\"],[0.7777777777777778,\"#fb9f3a\"],[0.8888888888888888,\"#fdca26\"],[1.0,\"#f0f921\"]]}],\"contourcarpet\":[{\"type\":\"contourcarpet\",\"colorbar\":{\"outlinewidth\":0,\"ticks\":\"\"}}],\"contour\":[{\"type\":\"contour\",\"colorbar\":{\"outlinewidth\":0,\"ticks\":\"\"},\"colorscale\":[[0.0,\"#0d0887\"],[0.1111111111111111,\"#46039f\"],[0.2222222222222222,\"#7201a8\"],[0.3333333333333333,\"#9c179e\"],[0.4444444444444444,\"#bd3786\"],[0.5555555555555556,\"#d8576b\"],[0.6666666666666666,\"#ed7953\"],[0.7777777777777778,\"#fb9f3a\"],[0.8888888888888888,\"#fdca26\"],[1.0,\"#f0f921\"]]}],\"surface\":[{\"type\":\"surface\",\"colorbar\":{\"outlinewidth\":0,\"ticks\":\"\"},\"colorscale\":[[0.0,\"#0d0887\"],[0.1111111111111111,\"#46039f\"],[0.2222222222222222,\"#7201a8\"],[0.3333333333333333,\"#9c179e\"],[0.4444444444444444,\"#bd3786\"],[0.5555555555555556,\"#d8576b\"],[0.6666666666666666,\"#ed7953\"],[0.7777777777777778,\"#fb9f3a\"],[0.8888888888888888,\"#fdca26\"],[1.0,\"#f0f921\"]]}],\"mesh3d\":[{\"type\":\"mesh3d\",\"colorbar\":{\"outlinewidth\":0,\"ticks\":\"\"}}],\"scatter\":[{\"fillpattern\":{\"fillmode\":\"overlay\",\"size\":10,\"solidity\":0.2},\"type\":\"scatter\"}],\"parcoords\":[{\"type\":\"parcoords\",\"line\":{\"colorbar\":{\"outlinewidth\":0,\"ticks\":\"\"}}}],\"scatterpolargl\":[{\"type\":\"scatterpolargl\",\"marker\":{\"colorbar\":{\"outlinewidth\":0,\"ticks\":\"\"}}}],\"bar\":[{\"error_x\":{\"color\":\"#2a3f5f\"},\"error_y\":{\"color\":\"#2a3f5f\"},\"marker\":{\"line\":{\"color\":\"#E5ECF6\",\"width\":0.5},\"pattern\":{\"fillmode\":\"overlay\",\"size\":10,\"solidity\":0.2}},\"type\":\"bar\"}],\"scattergeo\":[{\"type\":\"scattergeo\",\"marker\":{\"colorbar\":{\"outlinewidth\":0,\"ticks\":\"\"}}}],\"scatterpolar\":[{\"type\":\"scatterpolar\",\"marker\":{\"colorbar\":{\"outlinewidth\":0,\"ticks\":\"\"}}}],\"histogram\":[{\"marker\":{\"pattern\":{\"fillmode\":\"overlay\",\"size\":10,\"solidity\":0.2}},\"type\":\"histogram\"}],\"scattergl\":[{\"type\":\"scattergl\",\"marker\":{\"colorbar\":{\"outlinewidth\":0,\"ticks\":\"\"}}}],\"scatter3d\":[{\"type\":\"scatter3d\",\"line\":{\"colorbar\":{\"outlinewidth\":0,\"ticks\":\"\"}},\"marker\":{\"colorbar\":{\"outlinewidth\":0,\"ticks\":\"\"}}}],\"scattermapbox\":[{\"type\":\"scattermapbox\",\"marker\":{\"colorbar\":{\"outlinewidth\":0,\"ticks\":\"\"}}}],\"scatterternary\":[{\"type\":\"scatterternary\",\"marker\":{\"colorbar\":{\"outlinewidth\":0,\"ticks\":\"\"}}}],\"scattercarpet\":[{\"type\":\"scattercarpet\",\"marker\":{\"colorbar\":{\"outlinewidth\":0,\"ticks\":\"\"}}}],\"carpet\":[{\"aaxis\":{\"endlinecolor\":\"#2a3f5f\",\"gridcolor\":\"white\",\"linecolor\":\"white\",\"minorgridcolor\":\"white\",\"startlinecolor\":\"#2a3f5f\"},\"baxis\":{\"endlinecolor\":\"#2a3f5f\",\"gridcolor\":\"white\",\"linecolor\":\"white\",\"minorgridcolor\":\"white\",\"startlinecolor\":\"#2a3f5f\"},\"type\":\"carpet\"}],\"table\":[{\"cells\":{\"fill\":{\"color\":\"#EBF0F8\"},\"line\":{\"color\":\"white\"}},\"header\":{\"fill\":{\"color\":\"#C8D4E3\"},\"line\":{\"color\":\"white\"}},\"type\":\"table\"}],\"barpolar\":[{\"marker\":{\"line\":{\"color\":\"#E5ECF6\",\"width\":0.5},\"pattern\":{\"fillmode\":\"overlay\",\"size\":10,\"solidity\":0.2}},\"type\":\"barpolar\"}],\"pie\":[{\"automargin\":true,\"type\":\"pie\"}]},\"layout\":{\"autotypenumbers\":\"strict\",\"colorway\":[\"#636efa\",\"#EF553B\",\"#00cc96\",\"#ab63fa\",\"#FFA15A\",\"#19d3f3\",\"#FF6692\",\"#B6E880\",\"#FF97FF\",\"#FECB52\"],\"font\":{\"color\":\"#2a3f5f\"},\"hovermode\":\"closest\",\"hoverlabel\":{\"align\":\"left\"},\"paper_bgcolor\":\"white\",\"plot_bgcolor\":\"#E5ECF6\",\"polar\":{\"bgcolor\":\"#E5ECF6\",\"angularaxis\":{\"gridcolor\":\"white\",\"linecolor\":\"white\",\"ticks\":\"\"},\"radialaxis\":{\"gridcolor\":\"white\",\"linecolor\":\"white\",\"ticks\":\"\"}},\"ternary\":{\"bgcolor\":\"#E5ECF6\",\"aaxis\":{\"gridcolor\":\"white\",\"linecolor\":\"white\",\"ticks\":\"\"},\"baxis\":{\"gridcolor\":\"white\",\"linecolor\":\"white\",\"ticks\":\"\"},\"caxis\":{\"gridcolor\":\"white\",\"linecolor\":\"white\",\"ticks\":\"\"}},\"coloraxis\":{\"colorbar\":{\"outlinewidth\":0,\"ticks\":\"\"}},\"colorscale\":{\"sequential\":[[0.0,\"#0d0887\"],[0.1111111111111111,\"#46039f\"],[0.2222222222222222,\"#7201a8\"],[0.3333333333333333,\"#9c179e\"],[0.4444444444444444,\"#bd3786\"],[0.5555555555555556,\"#d8576b\"],[0.6666666666666666,\"#ed7953\"],[0.7777777777777778,\"#fb9f3a\"],[0.8888888888888888,\"#fdca26\"],[1.0,\"#f0f921\"]],\"sequentialminus\":[[0.0,\"#0d0887\"],[0.1111111111111111,\"#46039f\"],[0.2222222222222222,\"#7201a8\"],[0.3333333333333333,\"#9c179e\"],[0.4444444444444444,\"#bd3786\"],[0.5555555555555556,\"#d8576b\"],[0.6666666666666666,\"#ed7953\"],[0.7777777777777778,\"#fb9f3a\"],[0.8888888888888888,\"#fdca26\"],[1.0,\"#f0f921\"]],\"diverging\":[[0,\"#8e0152\"],[0.1,\"#c51b7d\"],[0.2,\"#de77ae\"],[0.3,\"#f1b6da\"],[0.4,\"#fde0ef\"],[0.5,\"#f7f7f7\"],[0.6,\"#e6f5d0\"],[0.7,\"#b8e186\"],[0.8,\"#7fbc41\"],[0.9,\"#4d9221\"],[1,\"#276419\"]]},\"xaxis\":{\"gridcolor\":\"white\",\"linecolor\":\"white\",\"ticks\":\"\",\"title\":{\"standoff\":15},\"zerolinecolor\":\"white\",\"automargin\":true,\"zerolinewidth\":2},\"yaxis\":{\"gridcolor\":\"white\",\"linecolor\":\"white\",\"ticks\":\"\",\"title\":{\"standoff\":15},\"zerolinecolor\":\"white\",\"automargin\":true,\"zerolinewidth\":2},\"scene\":{\"xaxis\":{\"backgroundcolor\":\"#E5ECF6\",\"gridcolor\":\"white\",\"linecolor\":\"white\",\"showbackground\":true,\"ticks\":\"\",\"zerolinecolor\":\"white\",\"gridwidth\":2},\"yaxis\":{\"backgroundcolor\":\"#E5ECF6\",\"gridcolor\":\"white\",\"linecolor\":\"white\",\"showbackground\":true,\"ticks\":\"\",\"zerolinecolor\":\"white\",\"gridwidth\":2},\"zaxis\":{\"backgroundcolor\":\"#E5ECF6\",\"gridcolor\":\"white\",\"linecolor\":\"white\",\"showbackground\":true,\"ticks\":\"\",\"zerolinecolor\":\"white\",\"gridwidth\":2}},\"shapedefaults\":{\"line\":{\"color\":\"#2a3f5f\"}},\"annotationdefaults\":{\"arrowcolor\":\"#2a3f5f\",\"arrowhead\":0,\"arrowwidth\":1},\"geo\":{\"bgcolor\":\"white\",\"landcolor\":\"#E5ECF6\",\"subunitcolor\":\"white\",\"showland\":true,\"showlakes\":true,\"lakecolor\":\"white\"},\"title\":{\"x\":0.05},\"mapbox\":{\"style\":\"light\"}}},\"xaxis\":{\"anchor\":\"y\",\"domain\":[0.0,1.0],\"title\":{\"text\":\"risk\"},\"type\":\"log\"},\"yaxis\":{\"anchor\":\"x\",\"domain\":[0.0,1.0],\"title\":{\"text\":\"return\"}},\"coloraxis\":{\"colorbar\":{\"title\":{\"text\":\"return\"}},\"colorscale\":[[0.0,\"#0d0887\"],[0.1111111111111111,\"#46039f\"],[0.2222222222222222,\"#7201a8\"],[0.3333333333333333,\"#9c179e\"],[0.4444444444444444,\"#bd3786\"],[0.5555555555555556,\"#d8576b\"],[0.6666666666666666,\"#ed7953\"],[0.7777777777777778,\"#fb9f3a\"],[0.8888888888888888,\"#fdca26\"],[1.0,\"#f0f921\"]]},\"legend\":{\"tracegroupgap\":0},\"margin\":{\"t\":60},\"title\":{\"text\":\"Sample\",\"x\":0.5}},                        {\"responsive\": true}                    ).then(function(){\n",
       "                            \n",
       "var gd = document.getElementById('2f886deb-e7d1-4420-9787-5be64a51b691');\n",
       "var x = new MutationObserver(function (mutations, observer) {{\n",
       "        var display = window.getComputedStyle(gd).display;\n",
       "        if (!display || display === 'none') {{\n",
       "            console.log([gd, 'removed!']);\n",
       "            Plotly.purge(gd);\n",
       "            observer.disconnect();\n",
       "        }}\n",
       "}});\n",
       "\n",
       "// Listen for the removal of the full notebook cells\n",
       "var notebookContainer = gd.closest('#notebook-container');\n",
       "if (notebookContainer) {{\n",
       "    x.observe(notebookContainer, {childList: true});\n",
       "}}\n",
       "\n",
       "// Listen for the clearing of the current output cell\n",
       "var outputEl = gd.closest('.output');\n",
       "if (outputEl) {{\n",
       "    x.observe(outputEl, {childList: true});\n",
       "}}\n",
       "\n",
       "                        })                };                });            </script>        </div>"
      ]
     },
     "metadata": {},
     "output_type": "display_data"
    }
   ],
   "source": [
    "fig = px.scatter(stocks, x=\"risk\", y=\"return\", text=stocks.index.values, log_x=True, size_max=100, color=\"return\")\n",
    "fig.update_traces(textposition='top center')\n",
    "fig.update_layout(title_text='Sample', title_x=0.5)\n",
    "fig.show()"
   ]
  },
  {
   "cell_type": "code",
   "execution_count": 23,
   "id": "deba0c31-ab7b-4fff-95f5-65da05a487f4",
   "metadata": {
    "tags": []
   },
   "outputs": [],
   "source": [
    "def get_price(instrument: str):\n",
    "    payload = {\"period\": 43200, \"start\": 1640998800000,\n",
    "               \"symbol\": instrument}\n",
    "    load_dotenv()\n",
    "    userId = os.environ.get(\"LOGIN\")\n",
    "    password = os.environ.get(\"PASSWORD\")\n",
    "    client = xAPIConnector.APIClient()\n",
    "    login_response = client.execute(xAPIConnector.loginCommand(userId=userId, password=password))\n",
    "    ssid = login_response['streamSessionId']\n",
    "    resp = client.commandExecute('getChartLastRequest', dict(info=payload))\n",
    "    client.disconnect()\n",
    "    return resp\n",
    "\n",
    "def stock_calc(data):\n",
    "    price = []\n",
    "    for idx in range(len(data)-1):\n",
    "        tmp = ((data[idx+1][\"open\"]+data[idx+1][\"close\"]) - (data[idx][\"open\"]+data[idx][\"close\"])) / (data[idx][\"open\"]+data[idx][\"close\"])\n",
    "        price.append(tmp)\n",
    "    price = np.array(price)\n",
    "    return np.mean(price).__round__(2), np.std(price).__round__(2)\n",
    "\n",
    "def parser(name: str):\n",
    "    stock_data = get_price(name)\n",
    "    return stock_calc(stock_data[\"returnData\"][\"rateInfos\"])\n",
    "\n",
    "def price_list(name: str):\n",
    "    stock_data = get_price(name)\n",
    "    prices = []\n",
    "    for x in stock_data[\"returnData\"][\"rateInfos\"]:\n",
    "        prices.append(x[\"open\"]+x[\"close\"])\n",
    "    return prices\n"
   ]
  },
  {
   "cell_type": "code",
   "execution_count": 37,
   "id": "e724a711-7986-412a-8cc1-ed454b5cc7ef",
   "metadata": {
    "tags": []
   },
   "outputs": [],
   "source": [
    "sp_50_dict = {}\n",
    "sp_50_cov = np.zeros((stocks.shape[0], stocks.shape[0]))\n",
    "names = stocks.index.values\n",
    "banned = []"
   ]
  },
  {
   "cell_type": "code",
   "execution_count": 39,
   "id": "b126a4d0-0b5f-4596-b48c-15f35ec4f894",
   "metadata": {
    "tags": []
   },
   "outputs": [],
   "source": [
    "from IPython.display import clear_output\n",
    "# build covariance matrix\n",
    "def calculate_increases(name):\n",
    "    # Endings = prices.Close\n",
    "    prices = price_list(name)\n",
    "    increases = []\n",
    "    for i in range(len(prices) - 1):\n",
    "        increase = (prices[i+1] - prices[i])/prices[i]\n",
    "        increases.append(increase)\n",
    "    # increases_ = np.array(increases)\n",
    "    if len(increases) != 17:\n",
    "        print(f\"{name}: {len(increases)}\")\n",
    "        banned.append(name)\n",
    "    return increases\n",
    "\n",
    "for name in names:\n",
    "    sp_50_dict[name] = calculate_increases(name)"
   ]
  },
  {
   "cell_type": "code",
   "execution_count": 42,
   "id": "d0826e7d-7691-4b8b-9a92-aead2c2832a4",
   "metadata": {
    "tags": []
   },
   "outputs": [
    {
     "name": "stdout",
     "output_type": "stream",
     "text": [
      "[]\n",
      "Pre: (43, 2)\n",
      "After: (43, 2)\n"
     ]
    }
   ],
   "source": [
    "print(banned)\n",
    "print(f\"Pre: {stocks.shape}\")\n",
    "stocks = stocks.drop(banned)\n",
    "print(f\"After: {stocks.shape}\")"
   ]
  },
  {
   "cell_type": "code",
   "execution_count": 44,
   "id": "d6229bd1-ad34-41b6-920c-e19e25f842b8",
   "metadata": {
    "tags": []
   },
   "outputs": [],
   "source": [
    "names = stocks.index.values"
   ]
  },
  {
   "cell_type": "code",
   "execution_count": 46,
   "id": "a1b994e9-6ad0-48dd-946a-6458bf0d837a",
   "metadata": {
    "tags": []
   },
   "outputs": [],
   "source": [
    "from IPython.display import clear_output\n",
    "# build covariance matrix\n",
    "banned = []\n",
    "def calculate_increases(name):\n",
    "    # Endings = prices.Close\n",
    "    prices = price_list(name)\n",
    "    increases = []\n",
    "    for i in range(len(prices) - 1):\n",
    "        increase = (prices[i+1] - prices[i])/prices[i]\n",
    "        increases.append(increase)\n",
    "    # increases_ = np.array(increases)\n",
    "    if len(increases) != 17:\n",
    "        print(f\"{name}: {len(increases)}\")\n",
    "        banned.append(name)\n",
    "    return increases\n",
    "\n",
    "for name in names:\n",
    "    sp_50_dict[name] = calculate_increases(name)\n",
    "\n",
    "for i in range(stocks.shape[0]):\n",
    "    for j in range(stocks.shape[0]):\n",
    "        cov = np.cov(sp_50_dict[names[i]], sp_50_dict[names[j]])[0][1]\n",
    "        sp_50_cov[i, j] = cov"
   ]
  },
  {
   "cell_type": "code",
   "execution_count": 48,
   "id": "667e751b-f91a-4894-96f0-41e55f53dc28",
   "metadata": {
    "tags": []
   },
   "outputs": [
    {
     "data": {
      "text/plain": [
       "array([[ 1.44388737e-02,  5.62215078e-03,  3.24097024e-03, ...,\n",
       "         2.60291556e-03,  4.42133204e-03, -1.72613892e-02],\n",
       "       [ 5.62215078e-03,  1.68899056e-02, -1.91297347e-03, ...,\n",
       "        -3.46785554e-04,  7.19641283e-03, -1.21352843e-02],\n",
       "       [ 3.24097024e-03, -1.91297347e-03,  8.92740396e-03, ...,\n",
       "         7.09850068e-03,  4.82679960e-03, -5.79308935e-03],\n",
       "       ...,\n",
       "       [ 2.60291556e-03, -3.46785554e-04,  7.09850068e-03, ...,\n",
       "         3.19940994e-02,  9.66280112e-03,  2.80414639e-05],\n",
       "       [ 4.42133204e-03,  7.19641283e-03,  4.82679960e-03, ...,\n",
       "         9.66280112e-03,  2.34179312e-02,  2.65457819e-03],\n",
       "       [-1.72613892e-02, -1.21352843e-02, -5.79308935e-03, ...,\n",
       "         2.80414639e-05,  2.65457819e-03,  1.40688379e-01]])"
      ]
     },
     "execution_count": 48,
     "metadata": {},
     "output_type": "execute_result"
    }
   ],
   "source": [
    "pd.DataFrame(sp_50_cov).to_csv('43StocksCovariance.csv')\n",
    "sp_50_cov"
   ]
  },
  {
   "cell_type": "code",
   "execution_count": 63,
   "id": "fc5dcacf-a999-4a50-9e2d-39ec10b64efb",
   "metadata": {
    "tags": []
   },
   "outputs": [
    {
     "name": "stdout",
     "output_type": "stream",
     "text": [
      "After: (49, 2)\n",
      "['BFT.PL_9' 'ATA.PL' 'ZUE.PL' 'LBW.PL' 'SFS.PL' 'VOT.PL' 'PDZ.PL' 'CLD.PL'\n",
      " 'KOM.PL' 'BMC.PL' 'MBF.PL' 'GRX.PL' 'WTN.PL' 'RSP.PL' 'MON.PL' 'BML.PL'\n",
      " 'ALG.PL' 'ELT.PL' 'ZEP.PL' 'ATR.PL' 'ODL.PL' 'ETL.PL' 'NVV.PL' '4MS.PL'\n",
      " 'CIG.PL' 'ATC.PL' 'COG.PL' 'XTP.PL' 'SUN.PL' 'XTB.PL_9' 'ASB.PL' 'WAT.PL'\n",
      " 'OTSL.PL' 'SGN.PL' 'MRB.PL' 'SCP.PL' 'GOP.PL' 'BRS.PL_9' 'SPR.PL'\n",
      " 'ZRE.PL' 'BRS.PL_4' 'UNT.PL' 'SNX.PL']\n",
      "['BFT.PL_9' 'ATA.PL' 'ZUE.PL' 'BEE.PL' 'LBW.PL' 'SFS.PL' 'VOT.PL' 'PDZ.PL'\n",
      " 'CLD.PL' 'KOM.PL' 'BMC.PL' 'MBF.PL' 'GRX.PL' 'WTN.PL' 'RSP.PL' 'MON.PL'\n",
      " 'BML.PL' 'ALG.PL' 'ELT.PL' 'LTS.PL_9' 'LTS.PL_4' 'ZEP.PL' 'ATR.PL'\n",
      " 'ODL.PL' 'ETL.PL' 'NVV.PL' '4MS.PL' 'CIG.PL' 'NCL.PL' 'ATC.PL' 'SDS.PL'\n",
      " 'COG.PL' 'XTP.PL' 'SUN.PL' 'XTB.PL_9' 'ASB.PL' 'WAT.PL' 'OTSL.PL'\n",
      " 'SGN.PL' 'MRB.PL' 'SCP.PL' 'GOP.PL' 'BRS.PL_9' 'SPR.PL' 'ZRE.PL'\n",
      " 'BRS.PL_4' 'AGL.PL' 'UNT.PL' 'SNX.PL']\n"
     ]
    }
   ],
   "source": [
    "best_43 = pd.read_csv(\"49best.csv\", index_col=0)\n",
    "print(f\"After: {best_43.shape}\")\n",
    "print(stocks.index.values)\n",
    "print(best_43.index.values)"
   ]
  },
  {
   "cell_type": "code",
   "execution_count": 65,
   "id": "114f8562-bbb8-4181-92a2-bab4289157b5",
   "metadata": {
    "tags": []
   },
   "outputs": [
    {
     "name": "stdout",
     "output_type": "stream",
     "text": [
      "After: (43, 2)\n"
     ]
    }
   ],
   "source": [
    "best_43 = best_43[best_43.index.isin(list(stocks.index.values))]\n",
    "print(f\"After: {best_43.shape}\")\n",
    "best_43.to_csv(\"43best.csv\")"
   ]
  }
 ],
 "metadata": {
  "kernelspec": {
   "display_name": "Python 3 (ipykernel)",
   "language": "python",
   "name": "python3"
  },
  "language_info": {
   "codemirror_mode": {
    "name": "ipython",
    "version": 3
   },
   "file_extension": ".py",
   "mimetype": "text/x-python",
   "name": "python",
   "nbconvert_exporter": "python",
   "pygments_lexer": "ipython3",
   "version": "3.10.10"
  }
 },
 "nbformat": 4,
 "nbformat_minor": 5
}
