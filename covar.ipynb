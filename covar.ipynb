{
 "cells": [
  {
   "cell_type": "code",
   "execution_count": 1,
   "id": "5833993a-d9e7-48c7-bdbe-c7e0dfeed774",
   "metadata": {
    "tags": []
   },
   "outputs": [],
   "source": [
    "import numpy as np\n",
    "import pandas as pd"
   ]
  },
  {
   "cell_type": "code",
   "execution_count": null,
   "id": "7737d681-96d0-4735-8ef1-9c261ba5f67a",
   "metadata": {},
   "outputs": [],
   "source": [
    "stocks = pd.read"
   ]
  },
  {
   "cell_type": "code",
   "execution_count": null,
   "id": "353eb3f3-83a7-4a5f-bea6-b9a3200648a4",
   "metadata": {},
   "outputs": [],
   "source": [
    "import plotly.express as px\n",
    "import pandas as pd\n",
    "\n",
    "fig = px.scatter(stocks, x=\"risk\", y=\"return\", text=stocks.index.values, log_x=True, size_max=100, color=\"risk\")\n",
    "fig.update_traces(textposition='top center')\n",
    "fig.update_layout(title_text='Sample', title_x=0.5)\n",
    "fig.show()"
   ]
  }
 ],
 "metadata": {
  "kernelspec": {
   "display_name": "Python 3 (ipykernel)",
   "language": "python",
   "name": "python3"
  },
  "language_info": {
   "codemirror_mode": {
    "name": "ipython",
    "version": 3
   },
   "file_extension": ".py",
   "mimetype": "text/x-python",
   "name": "python",
   "nbconvert_exporter": "python",
   "pygments_lexer": "ipython3",
   "version": "3.10.10"
  }
 },
 "nbformat": 4,
 "nbformat_minor": 5
}
