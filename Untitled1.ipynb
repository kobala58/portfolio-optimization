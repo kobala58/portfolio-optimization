{
 "cells": [
  {
   "cell_type": "code",
   "execution_count": 2,
   "id": "6c3f9c6b-a781-443c-a289-917097fa73fc",
   "metadata": {
    "tags": []
   },
   "outputs": [],
   "source": [
    "import cplex\n",
    "import pandas as pd\n",
    "import numpy as np\n",
    "import time\n",
    "import matplotlib.pyplot as plt"
   ]
  },
  {
   "cell_type": "code",
   "execution_count": 4,
   "id": "726e0f37-c094-47ed-8070-86f79fb3e1ae",
   "metadata": {
    "tags": []
   },
   "outputs": [
    {
     "name": "stdout",
     "output_type": "stream",
     "text": [
      "43\n"
     ]
    }
   ],
   "source": [
    "cov_matrix = pd.read_csv('43StocksCovariance.csv')\n",
    "sp_49 = pd.read_csv('43best.csv')\n",
    "print(sp_49.shape[0])\n"
   ]
  },
  {
   "cell_type": "code",
   "execution_count": 6,
   "id": "90aa280c-56a5-4327-9c00-0c23c8aeb161",
   "metadata": {
    "tags": []
   },
   "outputs": [
    {
     "name": "stdout",
     "output_type": "stream",
     "text": [
      "Version identifier: 22.1.1.0 | 2022-11-26 | 9160aff4d\n",
      "CPXPARAM_Read_DataCheck                          1\n",
      "Tried aggregator 1 time.\n",
      "LP Presolve eliminated 2 rows and 2 columns.\n",
      "Aggregator did 1 substitutions.\n",
      "All rows and columns eliminated.\n",
      "Presolve time = 0.00 sec. (0.00 ticks)\n",
      "[4.0, 1.0, 9.0]\n"
     ]
    }
   ],
   "source": [
    "num_decision_var = sp_49.shape[0]\n",
    "num_constraints = sp_49.shape[0]\n",
    "\n",
    "A = [\n",
    "    [1.0, -2.0, 1.0],\n",
    "    [-4.0, 1.0, 2.0],\n",
    "    [-2.0, 0, 1.0],\n",
    "]\n",
    "b = [11.0, 3.0, 1.0]\n",
    "c = [-3.0, 1.0, 1.0]\n",
    "\n",
    "constraint_type = [\"L\", \"G\", \"E\"] # Less, Greater, Equal\n",
    "# ============================================================\n",
    "\n",
    "# Establish the Linear Programming Model\n",
    "myProblem = cplex.Cplex()\n",
    "\n",
    "# Add the decision variables and set their lower bound and upper bound (if necessary)\n",
    "myProblem.variables.add(names= [\"x\"+str(i) for i in range(num_decision_var)])\n",
    "for i in range(num_decision_var):\n",
    "    myProblem.variables.set_lower_bounds(i, 0.0)\n",
    "\n",
    "# Add constraints\n",
    "for i in range(num_constraints):\n",
    "    myProblem.linear_constraints.add(\n",
    "        lin_expr= [cplex.SparsePair(ind= [j for j in range(num_decision_var)], val= A[i])],\n",
    "        rhs= [b[i]],\n",
    "        names = [\"c\"+str(i)],\n",
    "        senses = [constraint_type[i]]\n",
    "    )\n",
    "\n",
    "# Add objective function and set its sense\n",
    "for i in range(num_decision_var):\n",
    "    myProblem.objective.set_linear([(i, c[i])])\n",
    "myProblem.objective.set_sense(myProblem.objective.sense.minimi ~`ze)\n",
    "\n",
    "# Solve the model and print the answer\n",
    "myProblem.solve()\n",
    "print(myProblem.solution.get_values())"
   ]
  }
 ],
 "metadata": {
  "kernelspec": {
   "display_name": "Python 3 (ipykernel)",
   "language": "python",
   "name": "python3"
  },
  "language_info": {
   "codemirror_mode": {
    "name": "ipython",
    "version": 3
   },
   "file_extension": ".py",
   "mimetype": "text/x-python",
   "name": "python",
   "nbconvert_exporter": "python",
   "pygments_lexer": "ipython3",
   "version": "3.10.10"
  }
 },
 "nbformat": 4,
 "nbformat_minor": 5
}
