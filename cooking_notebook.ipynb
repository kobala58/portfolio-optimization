{
 "cells": [
  {
   "cell_type": "markdown",
   "id": "3dc81220-f867-4895-91a8-60e5bf16da9c",
   "metadata": {},
   "source": [
    "# Data will be grabbed from XTB"
   ]
  },
  {
   "cell_type": "code",
   "execution_count": 1,
   "id": "001355f8-f42d-4eda-a8eb-be75f5a9e098",
   "metadata": {
    "tags": []
   },
   "outputs": [],
   "source": [
    "import xAPIConnector\n",
    "from dotenv import load_dotenv\n",
    "import os\n",
    "import time\n",
    "import json\n",
    "\n",
    "\n",
    "def get_price(instrument: str):\n",
    "    payload = {\"period\": 43200, \"start\": 1640998800000,\n",
    "               \"symbol\": instrument}\n",
    "    load_dotenv()\n",
    "    userId = os.environ.get(\"LOGIN\")\n",
    "    password = os.environ.get(\"PASSWORD\")\n",
    "    client = xAPIConnector.APIClient()\n",
    "    login_response = client.execute(xAPIConnector.loginCommand(userId=userId, password=password))\n",
    "    ssid = login_response['streamSessionId']\n",
    "    resp = client.commandExecute('getChartLastRequest', dict(info=payload))\n",
    "    client.disconnect()\n",
    "    return resp\n",
    "\n",
    "def show_symbols():\n",
    "    load_dotenv()\n",
    "    userId = os.environ.get(\"LOGIN\")\n",
    "    password = os.environ.get(\"PASSWORD\")\n",
    "    client = xAPIConnector.APIClient()\n",
    "    login_response = client.execute(xAPIConnector.loginCommand(userId=userId, password=password))\n",
    "    ssid = login_response['streamSessionId']\n",
    "    resp = client.commandExecute('getAllSymbols')\n",
    "    client.disconnect()\n",
    "    return resp[\"returnData\"]\n",
    "\n",
    "\n",
    "sample = get_price(\"W20\")"
   ]
  },
  {
   "cell_type": "code",
   "execution_count": 2,
   "id": "86ed7dd0-5ec0-400e-966b-866810a9455f",
   "metadata": {
    "tags": []
   },
   "outputs": [
    {
     "name": "stdout",
     "output_type": "stream",
     "text": [
      "Jan 1, 2022, 12:00:00 AM\n",
      "Feb 1, 2022, 12:00:00 AM\n",
      "Mar 1, 2022, 12:00:00 AM\n",
      "Apr 1, 2022, 12:00:00 AM\n",
      "May 1, 2022, 12:00:00 AM\n",
      "Jun 1, 2022, 12:00:00 AM\n",
      "Jul 1, 2022, 12:00:00 AM\n",
      "Aug 1, 2022, 12:00:00 AM\n",
      "Sep 1, 2022, 12:00:00 AM\n",
      "Oct 1, 2022, 12:00:00 AM\n",
      "Nov 1, 2022, 12:00:00 AM\n",
      "Dec 1, 2022, 12:00:00 AM\n",
      "Jan 1, 2023, 12:00:00 AM\n",
      "Feb 1, 2023, 12:00:00 AM\n",
      "Mar 1, 2023, 12:00:00 AM\n",
      "Apr 1, 2023, 12:00:00 AM\n",
      "May 1, 2023, 12:00:00 AM\n"
     ]
    }
   ],
   "source": [
    "raw = sample[\"returnData\"][\"rateInfos\"]\n",
    "for x in raw:\n",
    "    print(x[\"ctmString\"])"
   ]
  },
  {
   "cell_type": "markdown",
   "id": "aec4be76-8e47-4250-8843-70b4ea76d8ce",
   "metadata": {},
   "source": []
  },
  {
   "cell_type": "code",
   "execution_count": 3,
   "id": "0afb74f8-13a8-4274-8d4b-e65521867304",
   "metadata": {
    "tags": []
   },
   "outputs": [
    {
     "name": "stdout",
     "output_type": "stream",
     "text": [
      "Index(['symbol', 'currency', 'categoryName', 'currencyProfit', 'quoteId',\n",
      "       'quoteIdCross', 'marginMode', 'profitMode', 'pipsPrecision',\n",
      "       'contractSize', 'exemode', 'time', 'expiration', 'stopsLevel',\n",
      "       'precision', 'swapType', 'stepRuleId', 'type', 'instantMaxVolume',\n",
      "       'groupName', 'description', 'longOnly', 'trailingEnabled',\n",
      "       'marginHedgedStrong', 'swapEnable', 'percentage', 'bid', 'ask', 'high',\n",
      "       'low', 'lotMin', 'lotMax', 'lotStep', 'tickSize', 'tickValue',\n",
      "       'swapLong', 'swapShort', 'leverage', 'spreadRaw', 'spreadTable',\n",
      "       'starting', 'swap_rollover3days', 'marginMaintenance', 'marginHedged',\n",
      "       'initialMargin', 'timeString', 'shortSelling', 'currencyPair'],\n",
      "      dtype='object')\n",
      "(6018, 48)\n"
     ]
    }
   ],
   "source": [
    "#symbols = show_symbols()\n",
    "#with open(\"data.json\", \"w\") as file:\n",
    "#    json_obj = json.dumps(symbols, indent=4)\n",
    "#    file.write(json_obj)\n",
    "\n",
    "import pandas as pd\n",
    "\n",
    "data = pd.read_json(\"data.json\")\n",
    "print(data.columns)\n",
    "print(data.shape)"
   ]
  },
  {
   "cell_type": "code",
   "execution_count": 4,
   "id": "f21edef8-b93c-4efb-9ace-6302d7f6ccc5",
   "metadata": {
    "tags": []
   },
   "outputs": [
    {
     "name": "stdout",
     "output_type": "stream",
     "text": [
      "(455,)\n"
     ]
    }
   ],
   "source": [
    "data = data[(data.currency == \"PLN\") & (data.categoryName == \"STC\")]\n",
    "data = data['symbol']\n",
    "to_pop = [\"POZ.PL\"]\n",
    "\n",
    "print(data.shape)\n",
    "data = list(data)\n",
    "for x in to_pop:\n",
    "    data.remove(x)"
   ]
  },
  {
   "cell_type": "code",
   "execution_count": 5,
   "id": "0e442cb9-a951-43f5-b9fd-48691519cd55",
   "metadata": {},
   "outputs": [],
   "source": [
    "import numpy as np\n",
    "def stock_calc(data):\n",
    "    price = []\n",
    "    for idx in range(len(data)-1):\n",
    "        tmp = ((data[idx+1][\"open\"]+data[idx+1][\"close\"]) - (data[idx][\"open\"]+data[idx][\"close\"])) / (data[idx][\"open\"]+data[idx][\"close\"])\n",
    "        price.append(tmp)\n",
    "    price = np.array(price)\n",
    "    return np.mean(price).__round__(2), np.std(price).__round__(2)\n",
    "\n",
    "def parser(name: str):\n",
    "    stock_data = get_price(name)\n",
    "    return stock_calc(stock_data[\"returnData\"][\"rateInfos\"])\n",
    "\n",
    "def check_stock(name: str):\n",
    "    stock_data = get_price(name)\n",
    "    for x in stock_data[\"returnData\"][\"rateInfos\"]:\n",
    "        print(x)"
   ]
  },
  {
   "cell_type": "code",
   "execution_count": 6,
   "id": "e642f2ca-a6c5-48d5-9b2f-edeaad21fa78",
   "metadata": {
    "tags": []
   },
   "outputs": [
    {
     "name": "stdout",
     "output_type": "stream",
     "text": [
      "{'ctm': 1640991600000, 'ctmString': 'Jan 1, 2022, 12:00:00 AM', 'open': 6650.0, 'close': -500.0, 'high': 250.0, 'low': -1050.0, 'vol': 2190.0}\n",
      "{'ctm': 1643670000000, 'ctmString': 'Feb 1, 2022, 12:00:00 AM', 'open': 6000.0, 'close': -50.0, 'high': 300.0, 'low': -800.0, 'vol': 1538.0}\n",
      "{'ctm': 1646089200000, 'ctmString': 'Mar 1, 2022, 12:00:00 AM', 'open': 5950.0, 'close': -100.0, 'high': 100.0, 'low': -700.0, 'vol': 858.0}\n",
      "{'ctm': 1648764000000, 'ctmString': 'Apr 1, 2022, 12:00:00 AM', 'open': 5900.0, 'close': 50.0, 'high': 350.0, 'low': -150.0, 'vol': 706.0}\n",
      "{'ctm': 1651356000000, 'ctmString': 'May 1, 2022, 12:00:00 AM', 'open': 6100.0, 'close': 800.0, 'high': 1750.0, 'low': -100.0, 'vol': 1107.0}\n",
      "{'ctm': 1654034400000, 'ctmString': 'Jun 1, 2022, 12:00:00 AM', 'open': 6900.0, 'close': -800.0, 'high': 200.0, 'low': -1050.0, 'vol': 740.0}\n",
      "{'ctm': 1656626400000, 'ctmString': 'Jul 1, 2022, 12:00:00 AM', 'open': 6150.0, 'close': -250.0, 'high': 300.0, 'low': -250.0, 'vol': 407.0}\n",
      "{'ctm': 1659304800000, 'ctmString': 'Aug 1, 2022, 12:00:00 AM', 'open': 5800.0, 'close': 0.0, 'high': 650.0, 'low': -100.0, 'vol': 391.0}\n",
      "{'ctm': 1661983200000, 'ctmString': 'Sep 1, 2022, 12:00:00 AM', 'open': 5800.0, 'close': -150.0, 'high': 0.0, 'low': -500.0, 'vol': 204.0}\n",
      "{'ctm': 1664575200000, 'ctmString': 'Oct 1, 2022, 12:00:00 AM', 'open': 5650.0, 'close': 150.0, 'high': 300.0, 'low': -200.0, 'vol': 161.0}\n",
      "{'ctm': 1667257200000, 'ctmString': 'Nov 1, 2022, 12:00:00 AM', 'open': 5800.0, 'close': -800.0, 'high': 50.0, 'low': -960.0, 'vol': 404.0}\n",
      "{'ctm': 1669849200000, 'ctmString': 'Dec 1, 2022, 12:00:00 AM', 'open': 4900.0, 'close': -100.0, 'high': 60.0, 'low': -520.0, 'vol': 457.0}\n",
      "{'ctm': 1672527600000, 'ctmString': 'Jan 1, 2023, 12:00:00 AM', 'open': 4660.0, 'close': 80.0, 'high': 260.0, 'low': -40.0, 'vol': 392.0}\n",
      "{'ctm': 1675206000000, 'ctmString': 'Feb 1, 2023, 12:00:00 AM', 'open': 4800.0, 'close': 850.0, 'high': 1450.0, 'low': -140.0, 'vol': 1241.0}\n",
      "{'ctm': 1677625200000, 'ctmString': 'Mar 1, 2023, 12:00:00 AM', 'open': 5600.0, 'close': -150.0, 'high': 200.0, 'low': -400.0, 'vol': 604.0}\n",
      "{'ctm': 1680300000000, 'ctmString': 'Apr 1, 2023, 12:00:00 AM', 'open': 5300.0, 'close': 500.0, 'high': 600.0, 'low': -100.0, 'vol': 651.0}\n",
      "{'ctm': 1682892000000, 'ctmString': 'May 1, 2023, 12:00:00 AM', 'open': 5550.0, 'close': -50.0, 'high': 350.0, 'low': -100.0, 'vol': 419.0}\n",
      "None\n",
      "(-0.0, 0.08)\n"
     ]
    }
   ],
   "source": [
    "sus = 'GRC.PL'\n",
    "print(check_stock(sus))\n",
    "print(parser(sus))"
   ]
  },
  {
   "cell_type": "code",
   "execution_count": 7,
   "id": "822395ef-541c-4ad3-b8df-d64fa8ce24d1",
   "metadata": {
    "tags": []
   },
   "outputs": [],
   "source": [
    "from IPython.display import clear_output"
   ]
  },
  {
   "cell_type": "code",
   "execution_count": 8,
   "id": "769b6949-6879-4da8-86fe-7d8642c0d232",
   "metadata": {
    "tags": []
   },
   "outputs": [
    {
     "name": "stdout",
     "output_type": "stream",
     "text": [
      "454/454 Zrobione, 100.0, spółka: ALI.PL\n"
     ]
    }
   ],
   "source": [
    "stocks = pd.DataFrame(columns = [\"return\", \"risk\"], index=data)\n",
    "i = 0\n",
    "cnt = stocks.shape[0]\n",
    "for x in data:\n",
    "    i += 1\n",
    "    mn, std = parser(x)\n",
    "    stocks.loc[x] = [mn, std]\n",
    "    clear_output(wait=True)\n",
    "    print(f\"{i}/{cnt} Zrobione, {((i/cnt).__round__(2))*100}, spółka: {x}\")"
   ]
  },
  {
   "cell_type": "code",
   "execution_count": 9,
   "id": "54f2482a-b43a-4fea-adb8-519f2f962211",
   "metadata": {
    "tags": []
   },
   "outputs": [],
   "source": [
    "stocks.to_csv(\"calculated.csv\")"
   ]
  },
  {
   "cell_type": "code",
   "execution_count": 10,
   "id": "603f6de9-a6f5-4f1d-8a0a-80dedc38f766",
   "metadata": {
    "tags": []
   },
   "outputs": [
    {
     "name": "stdout",
     "output_type": "stream",
     "text": [
      "454\n"
     ]
    }
   ],
   "source": [
    "print(stocks.shape[0])"
   ]
  },
  {
   "cell_type": "code",
   "execution_count": 11,
   "id": "4bfadc3b-f6c2-4a44-9342-22b6d22d66de",
   "metadata": {
    "tags": []
   },
   "outputs": [
    {
     "data": {
      "text/html": [
       "<div>\n",
       "<style scoped>\n",
       "    .dataframe tbody tr th:only-of-type {\n",
       "        vertical-align: middle;\n",
       "    }\n",
       "\n",
       "    .dataframe tbody tr th {\n",
       "        vertical-align: top;\n",
       "    }\n",
       "\n",
       "    .dataframe thead th {\n",
       "        text-align: right;\n",
       "    }\n",
       "</style>\n",
       "<table border=\"1\" class=\"dataframe\">\n",
       "  <thead>\n",
       "    <tr style=\"text-align: right;\">\n",
       "      <th></th>\n",
       "      <th>return</th>\n",
       "      <th>risk</th>\n",
       "    </tr>\n",
       "  </thead>\n",
       "  <tbody>\n",
       "  </tbody>\n",
       "</table>\n",
       "</div>"
      ],
      "text/plain": [
       "Empty DataFrame\n",
       "Columns: [return, risk]\n",
       "Index: []"
      ]
     },
     "execution_count": 11,
     "metadata": {},
     "output_type": "execute_result"
    }
   ],
   "source": [
    "stocks[stocks.isna().any(axis=1)]\n",
    "stocks = stocks.dropna()\n",
    "stocks[stocks.isna().any(axis=1)]"
   ]
  },
  {
   "cell_type": "code",
   "execution_count": 1,
   "id": "48df8cae-d6c4-40c1-984b-a27312cc50c3",
   "metadata": {
    "tags": []
   },
   "outputs": [
    {
     "ename": "NameError",
     "evalue": "name 'stocks' is not defined",
     "output_type": "error",
     "traceback": [
      "\u001b[0;31m---------------------------------------------------------------------------\u001b[0m",
      "\u001b[0;31mNameError\u001b[0m                                 Traceback (most recent call last)",
      "Cell \u001b[0;32mIn[1], line 4\u001b[0m\n\u001b[1;32m      1\u001b[0m \u001b[38;5;28;01mimport\u001b[39;00m \u001b[38;5;21;01mplotly\u001b[39;00m\u001b[38;5;21;01m.\u001b[39;00m\u001b[38;5;21;01mexpress\u001b[39;00m \u001b[38;5;28;01mas\u001b[39;00m \u001b[38;5;21;01mpx\u001b[39;00m\n\u001b[1;32m      2\u001b[0m \u001b[38;5;28;01mimport\u001b[39;00m \u001b[38;5;21;01mpandas\u001b[39;00m \u001b[38;5;28;01mas\u001b[39;00m \u001b[38;5;21;01mpd\u001b[39;00m\n\u001b[0;32m----> 4\u001b[0m fig \u001b[38;5;241m=\u001b[39m px\u001b[38;5;241m.\u001b[39mscatter(\u001b[43mstocks\u001b[49m, x\u001b[38;5;241m=\u001b[39m\u001b[38;5;124m\"\u001b[39m\u001b[38;5;124mrisk\u001b[39m\u001b[38;5;124m\"\u001b[39m, y\u001b[38;5;241m=\u001b[39m\u001b[38;5;124m\"\u001b[39m\u001b[38;5;124mreturn\u001b[39m\u001b[38;5;124m\"\u001b[39m, text\u001b[38;5;241m=\u001b[39mstocks\u001b[38;5;241m.\u001b[39mindex\u001b[38;5;241m.\u001b[39mvalues, log_x\u001b[38;5;241m=\u001b[39m\u001b[38;5;28;01mTrue\u001b[39;00m, size_max\u001b[38;5;241m=\u001b[39m\u001b[38;5;241m100\u001b[39m, color\u001b[38;5;241m=\u001b[39m\u001b[38;5;124m\"\u001b[39m\u001b[38;5;124mrisk\u001b[39m\u001b[38;5;124m\"\u001b[39m)\n\u001b[1;32m      5\u001b[0m fig\u001b[38;5;241m.\u001b[39mupdate_traces(textposition\u001b[38;5;241m=\u001b[39m\u001b[38;5;124m'\u001b[39m\u001b[38;5;124mtop center\u001b[39m\u001b[38;5;124m'\u001b[39m)\n\u001b[1;32m      6\u001b[0m fig\u001b[38;5;241m.\u001b[39mupdate_layout(title_text\u001b[38;5;241m=\u001b[39m\u001b[38;5;124m'\u001b[39m\u001b[38;5;124mSample\u001b[39m\u001b[38;5;124m'\u001b[39m, title_x\u001b[38;5;241m=\u001b[39m\u001b[38;5;241m0.5\u001b[39m)\n",
      "\u001b[0;31mNameError\u001b[0m: name 'stocks' is not defined"
     ]
    }
   ],
   "source": []
  },
  {
   "cell_type": "code",
   "execution_count": null,
   "id": "5619eb01-da55-4176-b4db-9bc361e85af0",
   "metadata": {},
   "outputs": [],
   "source": []
  }
 ],
 "metadata": {
  "kernelspec": {
   "display_name": "Python 3 (ipykernel)",
   "language": "python",
   "name": "python3"
  },
  "language_info": {
   "codemirror_mode": {
    "name": "ipython",
    "version": 3
   },
   "file_extension": ".py",
   "mimetype": "text/x-python",
   "name": "python",
   "nbconvert_exporter": "python",
   "pygments_lexer": "ipython3",
   "version": "3.10.8"
  }
 },
 "nbformat": 4,
 "nbformat_minor": 5
}
